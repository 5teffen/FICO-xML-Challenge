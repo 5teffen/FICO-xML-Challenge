{
 "cells": [
  {
   "cell_type": "code",
   "execution_count": 3,
   "metadata": {
    "collapsed": true
   },
   "outputs": [],
   "source": [
    "import numpy as np\n",
    "import pandas as pd\n",
    "\n",
    "from sklearn import datasets, linear_model, preprocessing\n",
    "import numpy.polynomial.polynomial as poly\n",
    "\n",
    "import lime\n",
    "import lime.lime_tabular\n",
    "\n",
    "import copy\n",
    "\n",
    "import matplotlib\n",
    "import matplotlib.pyplot as plt\n",
    "from mpl_toolkits.mplot3d import Axes3D\n",
    "%matplotlib inline"
   ]
  },
  {
   "cell_type": "code",
   "execution_count": 69,
   "metadata": {
    "collapsed": true
   },
   "outputs": [],
   "source": [
    "df = pd.read_csv(\"xML Challenge Dataset and Data Dictionary/heloc_dataset_v1.csv\")\n",
    "feature_names = list(df)\n",
    "data = df.values\n",
    "\n",
    "y_original= data[:,:1]\n",
    "X_original = data[:,1:]"
   ]
  },
  {
   "cell_type": "code",
   "execution_count": 70,
   "metadata": {
    "collapsed": false
   },
   "outputs": [],
   "source": [
    "# --- Basic Functions for Matrix editing --- \n",
    "\n",
    "def remove_row_with_all_same_val(data, target, val):\n",
    "    row_no = 0 \n",
    "    for row in data:\n",
    "        for col in row:\n",
    "            if (col == val):\n",
    "                remove = True\n",
    "            else:\n",
    "                remove = False\n",
    "                break\n",
    "\n",
    "        if remove:\n",
    "            data = np.delete(data, row_no, 0)\n",
    "            target = np.delete(target, row_no, 0)     \n",
    "\n",
    "        else:\n",
    "            row_no += 1\n",
    "    return data,target\n",
    "\n",
    "def remove_row_with_vals(data, target, vals):\n",
    "    row_no = 0 \n",
    "    for row in data:\n",
    "        for col in row:\n",
    "            if (col in vals):\n",
    "                data = np.delete(data, row_no, 0)\n",
    "                target = np.delete(target, row_no, 0) \n",
    "                row_no -= 1\n",
    "                break\n",
    "        row_no += 1\n",
    "    return data,target\n",
    "\n",
    "\n",
    "def remove_col_with_vals(data, vals):\n",
    "    no_cols = data.shape[1]\n",
    "    no_rows = data.shape[0]\n",
    "    row = 0\n",
    "    while (no_rows > row):\n",
    "        col = 0\n",
    "        while (no_cols > col):\n",
    "            if (data[row][col] in vals):\n",
    "                data = np.delete(data, col, 1)\n",
    "                no_cols -= 1\n",
    "            else:\n",
    "                col += 1\n",
    "        row += 1     \n",
    "    return data\n"
   ]
  },
  {
   "cell_type": "code",
   "execution_count": null,
   "metadata": {
    "collapsed": true
   },
   "outputs": [],
   "source": []
  },
  {
   "cell_type": "code",
   "execution_count": 71,
   "metadata": {
    "collapsed": false
   },
   "outputs": [
    {
     "name": "stdout",
     "output_type": "stream",
     "text": [
      "(10459, 23)\n",
      "(9871, 23)\n",
      "(10459, 1)\n",
      "(9871, 1)\n",
      "(9871, 23)\n",
      "(9871, 14)\n"
     ]
    }
   ],
   "source": [
    "# --- Removing the rows with only -9 values ---\n",
    "X, y = remove_row_with_all_same_val(X_original,y_original,-9)\n",
    "\n",
    "# --- Testing ---\n",
    "print(X_original.shape)\n",
    "print(X.shape)\n",
    "print(y_original.shape)\n",
    "print(y.shape)\n"
   ]
  },
  {
   "cell_type": "code",
   "execution_count": null,
   "metadata": {
    "collapsed": true
   },
   "outputs": [],
   "source": [
    "# --- Selecting the columns with -7  ---\n",
    "\n"
   ]
  },
  {
   "cell_type": "code",
   "execution_count": null,
   "metadata": {
    "collapsed": true
   },
   "outputs": [],
   "source": [
    "# --- Removing the columns that have -8 values ---\n",
    "X2 = remove_col_with_vals(X,[-8])\n",
    "\n",
    "# --- Testing ---\n",
    "print(X.shape)\n",
    "print(X2.shape)\n"
   ]
  },
  {
   "cell_type": "code",
   "execution_count": 75,
   "metadata": {
    "collapsed": false
   },
   "outputs": [],
   "source": [
    "def test_model_degrees(X_tr,y_tr,degrees):\n",
    "    RSS_list = []\n",
    "    for deg in degrees:\n",
    "        model = poly.polyfit(X_tr,y_tr,degree)\n",
    "        pred = poly.polyval(X_tr, model)\n",
    "        RSS = np.mean((Y_tr-pred)**2)\n",
    "        RSS_list.append(RSS)\n",
    "        \n",
    "        \n",
    "    plt.figure()\n",
    "    plt.plot(degrees,RSS_list,'.-',color='r') \n",
    "    plt.xlabel('Degree')                            \n",
    "    plt.ylabel('Performance')\n",
    "    \n",
    "\n",
    "def predict_values_poly_reg(X_tr,y_tr,X_test,deg):\n",
    "    model = poly.polyfit(X_tr,y_tr,degree)\n",
    "    pred = poly.polyval(X_test, model)\n",
    "    return pred\n",
    "\n",
    "def predict_values_lin_reg(X_tr,y_tr,X_test):\n",
    "    model = linear_model.LinearRegression()\n",
    "    model.fit(X_tr, y_tr)\n",
    "    pred = model.predict(X_test)\n",
    "    return pred\n",
    "    "
   ]
  },
  {
   "cell_type": "code",
   "execution_count": null,
   "metadata": {
    "collapsed": true
   },
   "outputs": [],
   "source": []
  }
 ],
 "metadata": {
  "anaconda-cloud": {},
  "kernelspec": {
   "display_name": "Python [conda root]",
   "language": "python",
   "name": "conda-root-py"
  },
  "language_info": {
   "codemirror_mode": {
    "name": "ipython",
    "version": 3
   },
   "file_extension": ".py",
   "mimetype": "text/x-python",
   "name": "python",
   "nbconvert_exporter": "python",
   "pygments_lexer": "ipython3",
   "version": "3.5.2"
  }
 },
 "nbformat": 4,
 "nbformat_minor": 1
}
