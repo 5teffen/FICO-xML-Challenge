{
 "cells": [
  {
   "cell_type": "code",
   "execution_count": 2,
   "metadata": {},
   "outputs": [
    {
     "name": "stdout",
     "output_type": "stream",
     "text": [
      "[[55 144 4 ..., 1 1 69]\n",
      " [61 58 15 ..., -8 -8 0]\n",
      " [67 66 5 ..., 2 1 86]\n",
      " ..., \n",
      " [74 129 6 ..., -8 0 56]\n",
      " [72 234 12 ..., 1 0 38]\n",
      " [66 28 1 ..., 1 0 100]]\n",
      "(23, 10459)\n",
      "(10459,)\n"
     ]
    }
   ],
   "source": [
    "import pandas as pd\n",
    "\n",
    "filename = 'xML Challenge Dataset and Data Dictionary\\heloc_dataset_v1.csv'\n",
    "df = pd.read_csv(\"xML Challenge Dataset and Data Dictionary/heloc_dataset_v1_pure.csv\")\n",
    "feature_names = list(df)\n",
    "data = df.values\n",
    "\n",
    "y = data[:,:1]\n",
    "\n",
    "y = y.reshape((y.shape[0],))\n",
    "data = data[:,1:]\n",
    "print(data)\n",
    "\n",
    "data = data.transpose()\n",
    "\n",
    "print(data.shape)\n",
    "print(y.shape)"
   ]
  },
  {
   "cell_type": "code",
   "execution_count": 5,
   "metadata": {},
   "outputs": [],
   "source": [
    "n_bins = 10\n",
    "sc_fact = 1/n_bins\n",
    "\n",
    "big_red = []\n",
    "big_blue = []\n",
    "big_bins = []\n",
    "\n",
    "wanted_feature = [data[18]]\n",
    "for feature in wanted_feature:\n",
    "\n",
    "    red = []\n",
    "    blue = []\n",
    "    bins = [\"-9\",\"-8\",\"-7\"]\n",
    "\n",
    "    #bin = round(((max(feature) - min(feature))*sc_fact)\n",
    "    diff = 10 - (150%10)\n",
    "    if diff==10:\n",
    "        diff=0\n",
    "    bin = round((150+diff - 0)*sc_fact)\n",
    "    #floor = min(feature)\n",
    "    floor = 0\n",
    "    ceil = bin\n",
    "    \n",
    "    count_red = 0\n",
    "    count_blue = 0\n",
    "    \n",
    "    for special_case in [-9,-8,-7]:\n",
    "        for data_ind in range(len(feature)):\n",
    "            data_p = feature[data_ind]\n",
    "            target = y[data_ind]\n",
    "\n",
    "            if (data_p == special_case):\n",
    "                \n",
    "                if (target == \"Bad\"):\n",
    "                    count_red += 1\n",
    "\n",
    "                else:\n",
    "                    count_blue +=1\n",
    "        \n",
    "        red.append(count_red)\n",
    "        blue.append(count_blue)\n",
    "        count_red = 0\n",
    "        count_blue = 0\n",
    "                    \n",
    "            \n",
    "\n",
    "    for i in range(n_bins):\n",
    "        bin_string = str(floor) + '/' + str(ceil)\n",
    "        bins.append(bin_string)\n",
    "\n",
    "        for data_ind in range(len(feature)):\n",
    "            data_p = feature[data_ind]\n",
    "            target = y[data_ind]\n",
    "            \n",
    "            if(i==n_bins-1):\n",
    "                if (floor <= data_p and data_p <= ceil):\n",
    "                    if (target == \"Bad\"):\n",
    "                        count_red += 1\n",
    "\n",
    "                    else:\n",
    "                        count_blue +=1\n",
    "                \n",
    "\n",
    "            elif (floor <= data_p and data_p < ceil):\n",
    "                if (target == \"Bad\"):\n",
    "                    count_red += 1\n",
    "\n",
    "                else:\n",
    "                    count_blue +=1\n",
    "\n",
    "        red.append(count_red)\n",
    "        blue.append(count_blue)\n",
    "\n",
    "        \n",
    "        count_red = 0\n",
    "        count_blue = 0\n",
    "        floor += bin\n",
    "        ceil += bin\n",
    "        \n",
    "            \n",
    "#     print(sum(blue))\n",
    "#     print(sum(red))\n",
    "    \n",
    "    big_blue.append(blue)\n",
    "    big_red.append(red)\n",
    "    big_bins.append(bins)\n",
    "     "
   ]
  },
  {
   "cell_type": "code",
   "execution_count": 6,
   "metadata": {},
   "outputs": [
    {
     "name": "stdout",
     "output_type": "stream",
     "text": [
      "1 13\n",
      "1 13\n"
     ]
    }
   ],
   "source": [
    "print(len(big_blue), len(big_blue[0]))\n",
    "print(len(big_bins), len(big_bins[0]))"
   ]
  },
  {
   "cell_type": "code",
   "execution_count": 8,
   "metadata": {},
   "outputs": [
    {
     "name": "stdout",
     "output_type": "stream",
     "text": [
      "F19-Expanded-NetFractionInstallBurden\n"
     ]
    }
   ],
   "source": [
    "import numpy as np\n",
    "import matplotlib.pyplot as plt\n",
    "from pylab import savefig\n",
    "\n",
    "i=18\n",
    "title = \"F\" + str(i+1) + \"-Expanded-\" + feature_names[i+1]\n",
    "print(title)\n",
    "\n",
    "# data to plot\n",
    "n_groups = n_bins+3\n",
    "number_of_good = big_blue[0]\n",
    "number_of_bad  = big_red[0]\n",
    "\n",
    "# create plot\n",
    "fig, ax = plt.subplots()\n",
    "k=6\n",
    "index = np.arange(0,(n_bins+3)*k,k)\n",
    "bar_width = 1\n",
    "opacity = 0.8\n",
    "bar_spacing = 1\n",
    "\n",
    "rects1 = plt.bar(index, number_of_good, bar_width,\n",
    "                 alpha=opacity,\n",
    "                 color='b',\n",
    "                 label='Good')\n",
    "\n",
    "rects2 = plt.bar(index + bar_width, number_of_bad, bar_width,\n",
    "                 alpha=opacity,\n",
    "                 color='darkred',\n",
    "                 label='Bad')\n",
    "\n",
    "plt.xlabel('Bin')\n",
    "plt.ylabel('#good/bad')\n",
    "plt.title(title)\n",
    "plt.xticks(index + bar_width - .4, big_bins[0])\n",
    "plt.grid()\n",
    "fig.set_size_inches(15, 5)\n",
    "plt.legend()\n",
    "\n",
    "#     plt.tight_layout()\n",
    "#     plt.show()\n",
    "plt.savefig(str(title) + '.pdf')\n",
    "#     savefig('stacked_bars' + str(i) +'.pdf')"
   ]
  }
 ],
 "metadata": {
  "kernelspec": {
   "display_name": "Python 3",
   "language": "python",
   "name": "python3"
  },
  "language_info": {
   "codemirror_mode": {
    "name": "ipython",
    "version": 3
   },
   "file_extension": ".py",
   "mimetype": "text/x-python",
   "name": "python",
   "nbconvert_exporter": "python",
   "pygments_lexer": "ipython3",
   "version": "3.6.3"
  }
 },
 "nbformat": 4,
 "nbformat_minor": 2
}
