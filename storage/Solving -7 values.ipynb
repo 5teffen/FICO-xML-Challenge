{
 "cells": [
  {
   "cell_type": "code",
   "execution_count": 2,
   "metadata": {
    "collapsed": true
   },
   "outputs": [],
   "source": [
    "import numpy as np\n",
    "import pandas as pd\n",
    "\n",
    "from sklearn.preprocessing import StandardScaler\n",
    "\n",
    "from sklearn import datasets, linear_model, preprocessing\n",
    "import numpy.polynomial.polynomial as poly\n",
    "\n",
    "import lime\n",
    "import lime.lime_tabular\n",
    "\n",
    "import copy\n",
    "\n",
    "import matplotlib\n",
    "import matplotlib.pyplot as plt\n",
    "from mpl_toolkits.mplot3d import Axes3D\n",
    "%matplotlib inline"
   ]
  },
  {
   "cell_type": "code",
   "execution_count": 18,
   "metadata": {
    "collapsed": false
   },
   "outputs": [
    {
     "name": "stdout",
     "output_type": "stream",
     "text": [
      "3.0\n",
      "1.0\n",
      "63.0\n",
      "0.0\n",
      "9.0\n",
      "0.0\n"
     ]
    }
   ],
   "source": [
    "df = pd.read_csv(\"working_data_raw.csv\")\n",
    "data_set = df.values\n",
    "data_set = np.delete(data_set, 0, 1) # Deleting dataframe extra column\n",
    "\n",
    "print(data_set[75][10])\n",
    "print(data_set[75][0])\n",
    "\n",
    "print(data_set[550][19])\n",
    "print(data_set[550][0])\n",
    "\n",
    "print(data_set[675][15])\n",
    "print(data_set[550][0])"
   ]
  },
  {
   "cell_type": "code",
   "execution_count": 19,
   "metadata": {
    "collapsed": true
   },
   "outputs": [],
   "source": [
    "class ModelError(Exception):\n",
    "    pass\n",
    "\n",
    "\n",
    "def remove_col_with_vals(data, vals):\n",
    "    no_cols = data.shape[1]\n",
    "    no_rows = data.shape[0]\n",
    "    row = 0\n",
    "    while (no_rows > row):\n",
    "        col = 0\n",
    "        while (no_cols > col):\n",
    "            if (data[row][col] in vals):\n",
    "                data = np.delete(data, col, 1)\n",
    "                no_cols -= 1\n",
    "            else:\n",
    "                col += 1\n",
    "        row += 1     \n",
    "    return data\n",
    "\n",
    "def predict_values_lin_reg(X_tr,y_tr,X_test):\n",
    "    model = linear_model.LinearRegression()\n",
    "    model.fit(X_tr, y_tr)\n",
    "    pred = model.predict(X_test)\n",
    "    return pred\n",
    "\n",
    "def data_spliter(all_data,target_col,target_val):\n",
    "    y = all_data[:,target_col:target_col+1]\n",
    "    X = np.delete(all_data,target_col,1)\n",
    "    \n",
    "    # Will hold the X for the y values that need to be predicted\n",
    "    X_target = np.zeros((1,X.shape[1]))\n",
    "    \n",
    "    row_no = 0 \n",
    "    for val in y:\n",
    "        if (val[0] == target_val):\n",
    "            X_target = np.append(X_target,X[row_no:row_no+1,:],axis=0)\n",
    "            X = np.delete(X, row_no, 0)\n",
    "            y = np.delete(y, row_no, 0) \n",
    "        else:\n",
    "            row_no += 1\n",
    "            \n",
    "    X_target = np.delete(X_target,0,0)\n",
    "    \n",
    "    return X,y,X_target\n",
    "\n",
    "def combine_parts_inorder(X,y,X_target,y_target,target_col):\n",
    "    y_target = y_target.reshape((y_target.shape[0],1))\n",
    "    y_full = np.append(y_target,y,axis=0)\n",
    "    X_full = np.append(X_target,X,axis=0)\n",
    "    \n",
    "    data = np.append(X_full[:,:target_col],y_full,axis=1)\n",
    "    data = np.append(data,X_full[:,target_col:],axis=1)\n",
    "    return data\n",
    "\n",
    "def process_and_predict(all_data,target_col,target_val,exclude=None,model=\"linear\"):\n",
    "    \n",
    "    # -- Split data --\n",
    "    X,y,X_target = data_spliter(all_data,target_col,target_val)\n",
    "    \n",
    "    # -- Remove certain columns --\n",
    "    if (exclude != None):\n",
    "        y_tr = np.copy(y)\n",
    "        X_tr = remove_col_with_vals(X,exclude)\n",
    "        X_pred = remove_col_with_vals(X_target,exclude) # The x used to predict\n",
    "        X_tr = np.delete(X_tr, 0, 1) # Removes the target column to avoid leaking\n",
    "        X_pred = np.delete(X_pred,0,1)\n",
    "    else:\n",
    "        y_tr = np.copy(y)\n",
    "        X_tr = np.delete(X, 0, 1)\n",
    "        X_pred = np.delete(X_target,0,1) \n",
    "        \n",
    "    # -- Run regression --\n",
    "    if (model == \"linear\"):\n",
    "        y_target = predict_values_lin_reg(X_tr,y_tr,X_pred)\n",
    "    \n",
    "    elif (model == \"polynomial\"):\n",
    "        pass\n",
    "    \n",
    "    elif (model == \"special\"):\n",
    "        X_avg = average_each_feature(X_pred)\n",
    "        pred = predict_values_lin_reg(X_tr,y_tr,X_avg)\n",
    "        print(pred)\n",
    "        return pred\n",
    "    \n",
    "    else:\n",
    "        raise ModelError(\"Model currently not available\")\n",
    "        \n",
    "    final_data = combine_parts_inorder(X,y,X_target,y_target,target_col)\n",
    "    \n",
    "    return final_data"
   ]
  },
  {
   "cell_type": "code",
   "execution_count": 20,
   "metadata": {
    "collapsed": false
   },
   "outputs": [
    {
     "name": "stdout",
     "output_type": "stream",
     "text": [
      "3.0\n",
      "1.0\n",
      "63.0\n",
      "0.0\n",
      "9.0\n",
      "0.0\n"
     ]
    }
   ],
   "source": [
    "# --- X including data --- \n",
    "X = np.copy(data_set)\n",
    "\n",
    "# --- Finding the missing -9 values ---\n",
    "X = process_and_predict(X,1,-9,[-7])\n",
    "\n",
    "# --- Finding the missing -7 values ---\n",
    "X = process_and_predict(X,9,-7,[-7])\n",
    "X = process_and_predict(X,15,-7)\n",
    "\n",
    "# --- Rounding the values to nearest whole value ---\n",
    "X = np.around(X.astype(np.float),0)\n",
    "\n",
    "# --- Write final result to file ---\n",
    "new_df = pd.DataFrame(X)\n",
    "new_df.to_csv(\"testing_new.csv\")\n"
   ]
  },
  {
   "cell_type": "code",
   "execution_count": null,
   "metadata": {
    "collapsed": false
   },
   "outputs": [],
   "source": [
    "# --- Splitting again to training and target data (to avoid data leaking) --- \n",
    "y = data_set[:,:1]\n",
    "X = data_set[:,1:]\n",
    "\n",
    "# --- Finding the missing -9 values ---\n",
    "X = process_and_predict(X,0,-9,[-7])\n",
    "\n",
    "# --- Finding the missing -7 values ---\n",
    "X = process_and_predict(X,8,-7,[-7])\n",
    "X = process_and_predict(X,14,-7)\n",
    "\n",
    "# --- Rounding the values to nearest whole value ---\n",
    "X = np.around(X.astype(np.float),0)\n",
    "\n",
    "# --- Creating one whole dataset ---\n",
    "data_set = np.append(y,np.copy(X),axis=1)\n",
    "\n",
    "# --- Write final result to file ---\n",
    "new_df = pd.DataFrame(data_set)\n",
    "new_df.to_csv(\"test2.csv\")\n",
    "\n"
   ]
  },
  {
   "cell_type": "code",
   "execution_count": 3,
   "metadata": {
    "collapsed": false
   },
   "outputs": [],
   "source": [
    "df = pd.read_csv(\"backup.csv\")\n",
    "data_set = df.values\n",
    "data_set = np.delete(data_set, 0, 1)\n",
    "\n",
    "def shift_categorical(data):\n",
    "    col_ten = data[:,10]\n",
    "    np.place(col_ten, col_ten == 1, 100) # hold\n",
    "    np.place(col_ten, col_ten == 6, 1)\n",
    "    np.place(col_ten, col_ten == 5, 1)\n",
    "    np.place(col_ten, col_ten == 4, 6)\n",
    "    np.place(col_ten, col_ten == 3, 5)\n",
    "    np.place(col_ten, col_ten == 2, 4)\n",
    "    np.place(col_ten, col_ten == 100, 3)\n",
    "    np.place(col_ten, col_ten == 0, 2)\n",
    "    np.place(col_ten, col_ten == 8, 0)\n",
    "    np.place(col_ten, col_ten == 9, 0)\n",
    "    \n",
    "    col_eleven = data[:,11]\n",
    "    np.place(col_eleven, col_eleven == 1, 0)\n",
    "    np.place(col_eleven, col_eleven == 9, 0)\n",
    "    np.place(col_eleven, col_eleven == 7, 1)\n",
    "    np.place(col_eleven, col_eleven == 8, 7)\n",
    "\n",
    "    data[:,10] = col_ten\n",
    "    data[:,11] = col_eleven\n",
    "    \n",
    "    return data\n",
    "\n",
    "data_set = shift_categorical(data_set)\n",
    "new_df = pd.DataFrame(data_set)\n",
    "new_df.to_csv(\"working_data_full.csv\")\n"
   ]
  },
  {
   "cell_type": "code",
   "execution_count": null,
   "metadata": {
    "collapsed": true
   },
   "outputs": [],
   "source": []
  }
 ],
 "metadata": {
  "anaconda-cloud": {},
  "kernelspec": {
   "display_name": "Python [conda root]",
   "language": "python",
   "name": "conda-root-py"
  },
  "language_info": {
   "codemirror_mode": {
    "name": "ipython",
    "version": 3
   },
   "file_extension": ".py",
   "mimetype": "text/x-python",
   "name": "python",
   "nbconvert_exporter": "python",
   "pygments_lexer": "ipython3",
   "version": "3.5.2"
  }
 },
 "nbformat": 4,
 "nbformat_minor": 1
}
