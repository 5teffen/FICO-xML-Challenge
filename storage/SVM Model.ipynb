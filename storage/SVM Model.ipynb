{
 "cells": [
  {
   "cell_type": "code",
   "execution_count": 2,
   "metadata": {
    "collapsed": true
   },
   "outputs": [],
   "source": [
    "import numpy as np\n",
    "import pandas as pd\n",
    "\n",
    "from sklearn import linear_model\n",
    "from sklearn.preprocessing import StandardScaler\n",
    "from sklearn import svm\n",
    "from sklearn.metrics import classification_report,confusion_matrix\n",
    "\n",
    "import lime\n",
    "import lime.lime_tabular\n",
    "\n",
    "import copy\n",
    "import matplotlib\n",
    "import matplotlib.pyplot as plt\n",
    "from mpl_toolkits.mplot3d import Axes3D\n",
    "%matplotlib inline"
   ]
  },
  {
   "cell_type": "code",
   "execution_count": 3,
   "metadata": {
    "collapsed": false
   },
   "outputs": [
    {
     "name": "stdout",
     "output_type": "stream",
     "text": [
      "(9871, 23)\n",
      "Training samples:  7896\n",
      "Test samples:  1975\n"
     ]
    }
   ],
   "source": [
    "df_original = pd.read_csv(\"xML Challenge Dataset and Data Dictionary/heloc_dataset_v1.csv\")\n",
    "#df = pd.read_csv(\"testing_new.csv\")\n",
    "df = pd.read_csv(\"working_data_full.csv\")\n",
    "\n",
    "feature_names = list(df_original)\n",
    "data = df.values\n",
    "data = np.delete(data, 0, 1) # Deleting dataframe extra column\n",
    "\n",
    "#np.place(data, data == -7, 150)\n",
    "\n",
    "y = data[:,:1]\n",
    "X = data[:,1:]\n",
    "print(X.shape)\n",
    "num_samples , num_attributes = X.shape\n",
    "\n",
    "# --- Scaling ---\n",
    "#scaler = StandardScaler()\n",
    "X_scaled = StandardScaler().fit_transform(X)\n",
    "\n",
    "# --- Separating Data ---\n",
    "X_tr = X_scaled[:int(0.8*num_samples)]\n",
    "X_test = X_scaled[int(0.8*num_samples):]\n",
    "\n",
    "y_tr = y[:int(0.8*num_samples)]\n",
    "y_test = y[int(0.8*num_samples):]\n",
    "\n",
    "print(\"Training samples: \", X_tr.shape[0])\n",
    "print(\"Test samples: \", X_test.shape[0])"
   ]
  },
  {
   "cell_type": "code",
   "execution_count": 21,
   "metadata": {
    "collapsed": true
   },
   "outputs": [],
   "source": [
    "def acc_test_SVM(C_val):\n",
    "    print(\"Running \", C_val)\n",
    "    svc = svm.SVC(kernel='linear',C=C_val)\n",
    "    svc.fit(X_tr,y_tr.reshape(y_tr.shape[0],))\n",
    "    y_pred = svc.predict(X_test)\n",
    "    acc = np.mean(y_pred.reshape(y_pred.shape[0],1) == y_test)\n",
    "    return acc"
   ]
  },
  {
   "cell_type": "code",
   "execution_count": 22,
   "metadata": {
    "collapsed": false
   },
   "outputs": [
    {
     "name": "stdout",
     "output_type": "stream",
     "text": [
      "Running  1e-05\n",
      "Running  0.0001\n",
      "Running  0.001\n",
      "Running  0.01\n",
      "Running  0.1\n",
      "Running  1\n"
     ]
    },
    {
     "data": {
      "image/png": "[encoded data removed]",
      "text/plain": [
       "<matplotlib.figure.Figure at 0x11c53c710>"
      ]
     },
     "metadata": {},
     "output_type": "display_data"
    }
   ],
   "source": [
    "C_acc = []\n",
    "C_options = [0.00001,0.0001,0.001,0.01,0.1,1]\n",
    "\n",
    "for test in C_options:\n",
    "    C_acc.append(acc_test_SVM(test))\n",
    "    \n",
    "plt.semilogx(C_options,C_acc,'.-',color='blue')\n",
    "plt.title(\"Accuracy depending on C value\")\n",
    "plt.xlabel('C value')\n",
    "plt.ylabel('Test Accuracy')\n",
    "plt.grid()"
   ]
  },
  {
   "cell_type": "code",
   "execution_count": 4,
   "metadata": {
    "collapsed": false
   },
   "outputs": [
    {
     "name": "stdout",
     "output_type": "stream",
     "text": [
      "Training Accuracy 72.6443768997 %\n",
      "Test Accuracy 75.0379746835 %\n"
     ]
    }
   ],
   "source": [
    "svc = svm.SVC(kernel='linear',C=0.01)\n",
    "\n",
    "svc.fit(X_tr,y_tr.reshape(y_tr.shape[0],))\n",
    "\n",
    "train_pred = svc.predict(X_tr)\n",
    "test_pred = svc.predict(X_test)\n",
    "\n",
    "acc_train = np.mean(train_pred.reshape(train_pred.shape[0],1) == y_tr)\n",
    "acc_test = np.mean(test_pred.reshape(test_pred.shape[0],1) == y_test)\n",
    "\n",
    "\n",
    "print(\"Training Accuracy\", acc_train*100, \"%\")\n",
    "print(\"Test Accuracy\", acc_test*100, \"%\")"
   ]
  },
  {
   "cell_type": "code",
   "execution_count": 128,
   "metadata": {
    "collapsed": false
   },
   "outputs": [
    {
     "name": "stdout",
     "output_type": "stream",
     "text": [
      "             precision    recall  f1-score   support\n",
      "\n",
      "        Bad       0.73      0.78      0.75       966\n",
      "       Good       0.77      0.72      0.74      1009\n",
      "\n",
      "avg / total       0.75      0.75      0.75      1975\n",
      "\n",
      "[[755 211]\n",
      " [285 724]]\n"
     ]
    }
   ],
   "source": [
    "print(classification_report(y_test, test_pred, target_names=[\"Bad\",\"Good\"]))\n",
    "print(confusion_matrix(y_test, test_pred))"
   ]
  },
  {
   "cell_type": "code",
   "execution_count": 5,
   "metadata": {
    "collapsed": false
   },
   "outputs": [
    {
     "name": "stdout",
     "output_type": "stream",
     "text": [
      "(1975, 2)\n"
     ]
    }
   ],
   "source": [
    "svc2 = svm.SVC(kernel='linear',C=0.001,probability=True)\n",
    "\n",
    "svc2.fit(X_tr,y_tr.reshape(y_tr.shape[0],))\n",
    "\n",
    "y_prob = svc2.predict_proba(X_test)\n",
    "print(y_prob.shape)"
   ]
  },
  {
   "cell_type": "code",
   "execution_count": 11,
   "metadata": {
    "collapsed": false
   },
   "outputs": [
    {
     "name": "stdout",
     "output_type": "stream",
     "text": [
      "[-0.81627885 -0.95187467 -0.27683122 -0.69803612 -0.45239355  1.95249842\n",
      "  0.61946606 -1.47464579 -0.65120878  0.14717649 -0.74335467 -0.12581464\n",
      "  1.16857164 -0.81429678 -0.52524019 -0.68162275 -0.66656747  0.61216955\n",
      "  0.09024432  0.30632689  0.98180066 -0.04889541  1.11306964]\n",
      "[[ 0.77542038  0.22457962]]\n"
     ]
    }
   ],
   "source": [
    "#y_prob = svc2.predict_proba(X_test[10])\n",
    "print(X_test[10])\n",
    "y_prob = svc2.predict_proba(X_test[10].reshape(1, -1))\n",
    "print(y_prob)"
   ]
  },
  {
   "cell_type": "code",
   "execution_count": 63,
   "metadata": {
    "collapsed": true
   },
   "outputs": [],
   "source": [
    "def brute_force_test(data,left,right):\n",
    "    col_1 = data[:,9]\n",
    "    np.place(col_1, col_1 == -7, left)\n",
    "    \n",
    "    col_2 = data[:,15]\n",
    "    np.place(col_2, col_2 == -7, right)\n",
    "\n",
    "    data[:,9] = col_1\n",
    "    data[:,15] = col_2\n",
    "\n",
    "    return data"
   ]
  },
  {
   "cell_type": "code",
   "execution_count": 69,
   "metadata": {
    "collapsed": false
   },
   "outputs": [
    {
     "name": "stdout",
     "output_type": "stream",
     "text": [
      "Accuracy: 73.8249594814 % Left: 100 Right: 100\n",
      "Accuracy: 73.8249594814 % Left: 100 Right: 150\n",
      "Accuracy: 73.7844408428 % Left: 100 Right: 250\n",
      "Accuracy: 74.1896272285 % Left: 150 Right: 100\n",
      "Accuracy: 74.1896272285 % Left: 150 Right: 150\n",
      "Accuracy: 74.14910859 % Left: 150 Right: 250\n",
      "Accuracy: 73.9870340357 % Left: 250 Right: 100\n",
      "Accuracy: 73.9870340357 % Left: 250 Right: 150\n",
      "Accuracy: 74.0275526742 % Left: 250 Right: 250\n"
     ]
    }
   ],
   "source": [
    "left = [100,150,250]\n",
    "right = [100,150,250]\n",
    "\n",
    "for l in left:\n",
    "    for r in right:\n",
    "        df = pd.read_csv(\"K-means results/datano8_mean5.csv\")\n",
    "        data = df.values\n",
    "        data = np.delete(data, 0, 1) # Deleting dataframe extra column\n",
    "        \n",
    "        data = brute_force_test(data,l,r)\n",
    "        y = data[:,:1]\n",
    "        X = data[:,1:]\n",
    "        num_samples , num_attributes = X.shape\n",
    "\n",
    "        # --- Scaling ---\n",
    "        scaler = StandardScaler()\n",
    "        X_scaled = scaler.fit_transform(X)\n",
    "\n",
    "        # --- Separating Data ---\n",
    "        X_tr = X_scaled[:int(0.5*num_samples)]\n",
    "        X_val = X_scaled[int(0.5*num_samples):int(0.75*num_samples)]\n",
    "        X_test = X_scaled[int(0.75*num_samples):]\n",
    "\n",
    "        y_tr = y[:int(0.5*num_samples)]\n",
    "        y_val = y[int(0.5*num_samples):int(0.75*num_samples)]\n",
    "        y_test = y[int(0.75*num_samples):]\n",
    "        \n",
    "        svc = svm.SVC(kernel='linear',C=1)\n",
    "\n",
    "        svc.fit(X_tr,y_tr.reshape(y_tr.shape[0],))\n",
    "\n",
    "        y_lin = svc.predict(X_test)\n",
    "        acc_lin = np.mean(y_lin.reshape(y_lin.shape[0],1) == y_test)\n",
    "\n",
    "        print(\"Accuracy:\", acc_lin*100, \"%\", \"Left:\",l , \"Right:\",r)"
   ]
  },
  {
   "cell_type": "code",
   "execution_count": null,
   "metadata": {
    "collapsed": true
   },
   "outputs": [],
   "source": []
  },
  {
   "cell_type": "code",
   "execution_count": 12,
   "metadata": {
    "collapsed": false
   },
   "outputs": [
    {
     "name": "stdout",
     "output_type": "stream",
     "text": [
      "Training Accuracy: 72.64 %\n",
      "Test Accuracy: 75.04 %\n",
      "0.191015668272\n",
      "Training Accuracy: 72.64 %\n",
      "Test Accuracy: 75.04 %\n",
      "0.189700093492\n"
     ]
    }
   ],
   "source": [
    "from SVM_model import SVM_model\n",
    "\n",
    "data = pd.read_csv(\"working_data_full.csv\").values\n",
    "data = np.delete(data, 0, 1) # Deletes First Column\n",
    "data = np.delete(data, 0, 1)\n",
    "\n",
    "\n",
    "testing = SVM_model(None,\"working_data_full.csv\")\n",
    "\n",
    "testing.train_model(0.01)\n",
    "\n",
    "testing.test_model()\n",
    "\n",
    "one_sample = data[10]\n",
    "\n",
    "print(testing.run_model(one_sample))"
   ]
  },
  {
   "cell_type": "code",
   "execution_count": null,
   "metadata": {
    "collapsed": true
   },
   "outputs": [],
   "source": []
  }
 ],
 "metadata": {
  "anaconda-cloud": {},
  "kernelspec": {
   "display_name": "Python [conda root]",
   "language": "python",
   "name": "conda-root-py"
  },
  "language_info": {
   "codemirror_mode": {
    "name": "ipython",
    "version": 3
   },
   "file_extension": ".py",
   "mimetype": "text/x-python",
   "name": "python",
   "nbconvert_exporter": "python",
   "pygments_lexer": "ipython3",
   "version": "3.5.2"
  }
 },
 "nbformat": 4,
 "nbformat_minor": 1
}
