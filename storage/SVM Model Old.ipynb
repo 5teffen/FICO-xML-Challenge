{
 "cells": [
  {
   "cell_type": "markdown",
   "metadata": {},
   "source": [
    "# Challenge Code"
   ]
  },
  {
   "cell_type": "markdown",
   "metadata": {},
   "source": [
    "### Basic data extraction"
   ]
  },
  {
   "cell_type": "code",
   "execution_count": 1,
   "metadata": {
    "collapsed": false
   },
   "outputs": [],
   "source": [
    "import numpy as np\n",
    "import pandas as pd\n",
    "\n",
    "from sklearn import linear_model\n",
    "from sklearn.preprocessing import StandardScaler\n",
    "import lime\n",
    "import lime.lime_tabular\n",
    "\n",
    "import copy\n",
    "import matplotlib\n",
    "import matplotlib.pyplot as plt\n",
    "from mpl_toolkits.mplot3d import Axes3D\n",
    "%matplotlib inline\n",
    "\n",
    "from sklearn.decomposition import PCA\n",
    "from sklearn.manifold import TSNE"
   ]
  },
  {
   "cell_type": "code",
   "execution_count": 2,
   "metadata": {
    "collapsed": false
   },
   "outputs": [],
   "source": [
    "#df = pd.read_csv(\"xML Challenge Dataset and Data Dictionary/heloc_dataset_v1.csv\")\n",
    "#df = pd.read_csv(\"new_data_set.csv\")\n",
    "#df = pd.read_csv(\"Processed Data/data_weighted5.csv\")\n",
    "df = pd.read_csv(\"data_weighted5.csv\")\n",
    "feature_names = list(df)\n",
    "data = df.values\n",
    "data = np.delete(data, 0, 1) # Deleting dataframe extra column\n",
    "\n",
    "y = data[:,:1]\n",
    "X = data[:,1:]"
   ]
  },
  {
   "cell_type": "markdown",
   "metadata": {},
   "source": [
    "### Data Manipulation and Processing"
   ]
  },
  {
   "cell_type": "code",
   "execution_count": 3,
   "metadata": {
    "collapsed": false
   },
   "outputs": [],
   "source": [
    "#X_scaled = X\n",
    "#X_scaled1 = (X-X.mean())/(X.std())\n",
    "scaler = StandardScaler()\n",
    "X_scaled = scaler.fit_transform(X)\n",
    "num_samples , num_attributes = X_scaled.shape\n",
    "\n",
    "#print(\"num_samples = \" + str(num_samples) + ' , ' + \"num_attributes = \" + str(num_attributes))"
   ]
  },
  {
   "cell_type": "code",
   "execution_count": 4,
   "metadata": {
    "collapsed": false
   },
   "outputs": [
    {
     "name": "stdout",
     "output_type": "stream",
     "text": [
      "Training samples:  4935\n",
      "Validation samples:  2468\n",
      "Test samples:  2468\n"
     ]
    }
   ],
   "source": [
    "X_tr = X_scaled[:int(0.5*num_samples)]\n",
    "X_val = X_scaled[int(0.5*num_samples):int(0.75*num_samples)]\n",
    "X_test = X_scaled[int(0.75*num_samples):]\n",
    "\n",
    "y_tr = y[:int(0.5*num_samples)]\n",
    "y_val = y[int(0.5*num_samples):int(0.75*num_samples)]\n",
    "y_test = y[int(0.75*num_samples):]\n",
    "\n",
    "print(\"Training samples: \", X_tr.shape[0])\n",
    "print(\"Validation samples: \", X_val.shape[0])\n",
    "print(\"Test samples: \", X_test.shape[0])"
   ]
  },
  {
   "cell_type": "markdown",
   "metadata": {},
   "source": [
    "### Logistic Regression"
   ]
  },
  {
   "cell_type": "code",
   "execution_count": 5,
   "metadata": {
    "collapsed": false
   },
   "outputs": [
    {
     "name": "stdout",
     "output_type": "stream",
     "text": [
      "Accuracy: 52.4311183144 %\n"
     ]
    }
   ],
   "source": [
    "logreg = linear_model.LogisticRegression(penalty=\"l2\",C=0.001, solver=\"liblinear\")\n",
    "# Fit the model on the training set.\n",
    "logreg.fit(X_tr, y_tr.reshape(y_tr.shape[0],))\n",
    "\n",
    "pred = logreg.predict(X_val)\n",
    "acc = np.mean(pred.reshape(pred.shape[0],1) == y_val)\n",
    "coefs = logreg.coef_\n",
    "print(\"Accuracy:\", acc*100, \"%\")\n",
    "\n",
    "\n"
   ]
  },
  {
   "cell_type": "markdown",
   "metadata": {
    "collapsed": true
   },
   "source": [
    "### Support Vector Machines - Linear Kernel"
   ]
  },
  {
   "cell_type": "code",
   "execution_count": 43,
   "metadata": {
    "collapsed": true
   },
   "outputs": [],
   "source": [
    "from sklearn import svm"
   ]
  },
  {
   "cell_type": "code",
   "execution_count": 44,
   "metadata": {
    "collapsed": true
   },
   "outputs": [],
   "source": [
    "def acc_test_SVM(C_val):\n",
    "    print(\"Running \", C_val)\n",
    "    svc = svm.SVC(kernel='linear',C=C_val)\n",
    "    svc.fit(X_tr,y_tr.reshape(y_tr.shape[0],))\n",
    "    y_pred = svc.predict(X_val)\n",
    "    acc = np.mean(y_pred.reshape(y_pred.shape[0],1) == y_val)\n",
    "    return acc"
   ]
  },
  {
   "cell_type": "code",
   "execution_count": 45,
   "metadata": {
    "collapsed": false
   },
   "outputs": [
    {
     "name": "stdout",
     "output_type": "stream",
     "text": [
      "Running  1e-05\n",
      "Running  0.0001\n",
      "Running  0.001\n",
      "Running  0.01\n",
      "Running  0.1\n",
      "Running  1\n",
      "Running  10\n"
     ]
    }
   ],
   "source": [
    "C_acc = []\n",
    "C_options = [0.00001,0.0001,0.001,0.01,0.1,1,10]\n",
    "\n",
    "for test in C_options:\n",
    "    C_acc.append(acc_test_SVM(test))"
   ]
  },
  {
   "cell_type": "code",
   "execution_count": 46,
   "metadata": {
    "collapsed": false
   },
   "outputs": [
    {
     "data": {
      "image/png": "[encoded data removed]",
      "text/plain": [
       "<matplotlib.figure.Figure at 0x11e9fcf98>"
      ]
     },
     "metadata": {},
     "output_type": "display_data"
    }
   ],
   "source": [
    "plt.semilogx(C_options,C_acc,'.-',color='blue')\n",
    "plt.title(\"Accuracy depending on C value\")\n",
    "plt.xlabel('C value')\n",
    "plt.ylabel('Test Accuracy')\n",
    "plt.grid()"
   ]
  },
  {
   "cell_type": "code",
   "execution_count": 36,
   "metadata": {
    "collapsed": false
   },
   "outputs": [],
   "source": [
    "svm_lin = svm.SVC(kernel='linear',C=0.0001)\n",
    "svm_rbf = svm.SVC(kernel='rbf',C=0.0001)\n",
    "svm_pol = svm.SVC(kernel='poly',C=0.0001,degree=2)\n",
    "\n",
    "svm_lin.fit(X_tr,y_tr.reshape(y_tr.shape[0],))\n",
    "svm_rbf.fit(X_tr,y_tr.reshape(y_tr.shape[0],))\n",
    "svm_pol.fit(X_tr,y_tr.reshape(y_tr.shape[0],))\n",
    "\n",
    "y_lin = svm_lin.predict(X_val)\n",
    "y_rbf = svm_rbf.predict(X_val) \n",
    "y_pol = svm_pol.predict(X_val) "
   ]
  },
  {
   "cell_type": "code",
   "execution_count": 37,
   "metadata": {
    "collapsed": false
   },
   "outputs": [
    {
     "name": "stdout",
     "output_type": "stream",
     "text": [
      "Linear Kernel Accuracy: 53.1604538088 %\n",
      "RBF Kernel Accuracy: 53.1604538088 %\n",
      "Polynomial Kernel Accuracy: 53.1604538088 %\n"
     ]
    }
   ],
   "source": [
    "acc_lin = np.mean(y_lin.reshape(y_lin.shape[0],1) == y_val)\n",
    "acc_rbf = np.mean(y_rbf.reshape(y_rbf.shape[0],1) == y_val)\n",
    "acc_pol = np.mean(y_pol.reshape(y_pol.shape[0],1) == y_val)\n",
    "print(\"Linear Kernel Accuracy:\", acc_lin*100, \"%\")\n",
    "print(\"RBF Kernel Accuracy:\", acc_rbf*100, \"%\")\n",
    "print(\"Polynomial Kernel Accuracy:\", acc_pol*100, \"%\")"
   ]
  },
  {
   "cell_type": "code",
   "execution_count": null,
   "metadata": {
    "collapsed": true
   },
   "outputs": [],
   "source": []
  },
  {
   "cell_type": "code",
   "execution_count": null,
   "metadata": {
    "collapsed": true
   },
   "outputs": [],
   "source": []
  }
 ],
 "metadata": {
  "anaconda-cloud": {},
  "kernelspec": {
   "display_name": "Python [conda root]",
   "language": "python",
   "name": "conda-root-py"
  },
  "language_info": {
   "codemirror_mode": {
    "name": "ipython",
    "version": 3
   },
   "file_extension": ".py",
   "mimetype": "text/x-python",
   "name": "python",
   "nbconvert_exporter": "python",
   "pygments_lexer": "ipython3",
   "version": "3.5.2"
  }
 },
 "nbformat": 4,
 "nbformat_minor": 1
}
