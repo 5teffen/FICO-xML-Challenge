{
 "cells": [
  {
   "cell_type": "markdown",
   "metadata": {},
   "source": [
    "# Single instance explanations"
   ]
  },
  {
   "cell_type": "code",
   "execution_count": 2,
   "metadata": {
    "collapsed": false
   },
   "outputs": [],
   "source": [
    "import pandas as pd\n",
    "import numpy as np\n",
    "from SVM_model import SVM_model\n",
    "from Functions import separate_bins_feature\n",
    "\n",
    "# Assuming a model that gives % of 'goodness' for any sample\n",
    "\n",
    "# Assuming that for categorical features there will be only values in range 0-7. \n",
    "\n",
    "# Hardcodes the constraints for the direction in which to move\n",
    "# 1: Move up to to improve\n",
    "# 0: Move down to improve\n",
    "# -1: Needs check\n",
    "monotonicity_arr = [1,1,1,1,1,0,0,1,1,1,1,-1,0,-1,1,0,0,0,0,-1,-1,0,-1]"
   ]
  },
  {
   "cell_type": "code",
   "execution_count": 7,
   "metadata": {
    "collapsed": false
   },
   "outputs": [
    {
     "name": "stdout",
     "output_type": "stream",
     "text": [
      "[[  54.   58.   62.   66.   70.   74.   78.   82.   86.   90.]\n",
      " [  25.   63.  101.  139.  177.  215.  253.  291.  329.  367.]\n",
      " [   1.    4.    7.   10.   13.   16.   19.   22.   25.   28.]\n",
      " [  17.   30.   43.   56.   69.   82.   95.  108.  121.  134.]\n",
      " [   2.    6.   10.   14.   18.   22.   26.   30.   34.   38.]\n",
      " [   0.    1.    2.    3.   -1.   -1.   -1.   -1.   -1.   -1.]\n",
      " [   0.    1.    2.   -1.   -1.   -1.   -1.   -1.   -1.   -1.]\n",
      " [  71.   75.   79.   83.   87.   91.   95.   99.  103.  107.]\n",
      " [  10.   31.   52.   73.   94.  115.  136.  157.  178.  199.]\n",
      " [   0.    1.    2.    3.    4.    5.    6.    7.   -1.   -1.]\n",
      " [   0.    1.    2.    3.    4.    5.    6.    7.   -1.   -1.]\n",
      " [   2.    6.   10.   14.   18.   22.   26.   30.   34.   38.]\n",
      " [   0.    1.    2.    3.    4.    5.    6.   -1.   -1.   -1.]\n",
      " [   3.   10.   17.   24.   31.   38.   45.   52.   59.   66.]\n",
      " [   7.   21.   35.   49.   63.   77.   91.  105.  119.  133.]\n",
      " [   0.    1.    2.    3.    4.    5.    6.   -1.   -1.   -1.]\n",
      " [   0.    1.    2.    3.    4.    5.    6.   -1.   -1.   -1.]\n",
      " [   4.   13.   22.   31.   40.   49.   58.   67.   76.   85.]\n",
      " [  27.   35.   43.   51.   59.   67.   75.   83.   91.   99.]\n",
      " [   0.    1.    2.    3.    4.    5.    6.    7.    8.    9.]\n",
      " [   0.    1.    2.    3.    4.    5.    6.   -1.   -1.   -1.]\n",
      " [   0.    1.    2.    3.    4.   -1.   -1.   -1.   -1.   -1.]\n",
      " [  26.   34.   42.   50.   58.   66.   74.   82.   90.   98.]] (23, 10)\n",
      "[[ 5.  0.  5. ...,  3.  1.  8.]\n",
      " [ 2.  0.  8. ...,  2.  0.  8.]\n",
      " [ 5.  2.  9. ...,  1.  2.  7.]\n",
      " ..., \n",
      " [ 5.  3.  2. ...,  3.  0.  4.]\n",
      " [ 5.  6.  4. ...,  1.  0.  2.]\n",
      " [ 3.  0.  0. ...,  1.  0.  9.]] (9871, 23)\n"
     ]
    }
   ],
   "source": [
    "# Create arrays with mean values for each bin and the position in the bin of each value\n",
    "\n",
    "# X = original data set (9871x23)\n",
    "df = pd.read_csv(\"working_data_full.csv\")\n",
    "vals = df.values\n",
    "X = vals[:,2:]\n",
    "y_original= vals[:,1]\n",
    "\n",
    "samples = X.shape[0]\n",
    "features = X.shape[1]\n",
    "\n",
    "mean_values_bins = []\n",
    "X_bined_positions = []\n",
    "\n",
    "for i in range (features):\n",
    "    if i in [9,10]:\n",
    "        result_bins = np.array([0,1,2,3,4,5,6,7,-1,-1])\n",
    "        result_new_col = X[:,i].flatten()\n",
    "    else:\n",
    "        result_bins, result_new_col = separate_bins_feature(X[:,i].flatten())[:2]\n",
    "    mean_values_bins.append(result_bins)\n",
    "    X_bined_positions.append(result_new_col)\n",
    "    \n",
    "mean_values_bins = np.array(mean_values_bins)\n",
    "X_bined_positions = np.array(X_bined_positions)  \n",
    "X_bined_positions = np.transpose(X_bined_positions)\n",
    "\n",
    "print(mean_values_bins, mean_values_bins.shape)\n",
    "print(X_bined_positions, X_bined_positions.shape)"
   ]
  },
  {
   "cell_type": "code",
   "execution_count": 13,
   "metadata": {
    "collapsed": false
   },
   "outputs": [
    {
     "name": "stdout",
     "output_type": "stream",
     "text": [
      "Training Accuracy: 72.81 %\n",
      "Test Accuracy: 74.58 %\n"
     ]
    }
   ],
   "source": [
    "svm_model = SVM_model(None, \"working_data_full.csv\")\n",
    "\n",
    "svm_model.train_model(0.001)\n",
    "svm_model.test_model()"
   ]
  },
  {
   "cell_type": "code",
   "execution_count": 16,
   "metadata": {
    "collapsed": true
   },
   "outputs": [],
   "source": [
    "def perturb_row_feature(model, row, row_idx, feat_idx, current_bins):\n",
    "    \n",
    "    c_current_bins = np.copy(current_bins)\n",
    "    direction = monotonicity_arr[feat_idx]\n",
    "    current_bin = np.copy(c_current_bins[feat_idx])\n",
    "    \n",
    "    if current_bin != 9:\n",
    "        next_value = mean_values_bins[feat_idx][int(current_bin+1)]\n",
    "    if current_bin != 0:\n",
    "        prev_value = mean_values_bins[feat_idx][int(X_bined_positions[row_idx][feat_idx]-1)]\n",
    "    \n",
    "    # Check if in boundary and return the same row\n",
    "    if direction == -1:\n",
    "        if current_bin == 0:\n",
    "            direction = 1\n",
    "        elif current_bin == 9 or next_value == -1:\n",
    "            direction = 0\n",
    "    if direction == 1:\n",
    "        if current_bin == 9 or next_value == -1:\n",
    "            return (row, c_current_bins)\n",
    "    elif direction == 0 and current_bin ==  0:\n",
    "            return (row, c_current_bins)\n",
    "    \n",
    "    # Decide direction in special case\n",
    "    if direction == -1:\n",
    "        row_up = np.copy(row)\n",
    "        row_down = np.copy(row)\n",
    "        row_up[feat_idx] = next_value\n",
    "        row_down[feat_idx] = prev_value\n",
    "        percent_1 = model.run_model(row_up)\n",
    "        percent_0 = model.run_model(row_down)\n",
    "        if percent_1 >= percent_0:\n",
    "            c_current_bins[feat_idx] += 1\n",
    "            return (row_up, c_current_bins)\n",
    "        else:\n",
    "            c_current_bins[feat_idx] -= 1\n",
    "            return (row_down, c_current_bins)\n",
    "        \n",
    "    else:\n",
    "        p_row = np.copy(row)\n",
    "        if direction == 1:\n",
    "            c_current_bins[feat_idx] += 1\n",
    "            p_row[feat_idx] = next_value\n",
    "        elif direction == 0:\n",
    "            c_current_bins[feat_idx] -= 1\n",
    "            p_row[feat_idx] = prev_value\n",
    "        \n",
    "        return (p_row, c_current_bins)\n",
    "\n",
    "def instance_explanation(model, k_row, row_idx):\n",
    "    \n",
    "    row = np.copy(k_row)\n",
    "    percent = model.run_model(row)\n",
    "    features_moved = np.zeros(23)\n",
    "    times_moved = np.zeros(23)\n",
    "    change_vector = np.zeros(23)\n",
    "    \n",
    "    original_bins = np.copy(X_bined_positions[row_idx])\n",
    "    current_bins = np.copy(X_bined_positions[row_idx])\n",
    "       \n",
    "    while percent <= 0.5 and (features_moved == 1).sum() < 5 and max(times_moved) < 5:\n",
    "    \n",
    "        new_percents = []\n",
    "        pert_rows = []\n",
    "        new_curr_bins = []\n",
    "        \n",
    "        for i in range(len(row)):\n",
    "            t_row, t_current_bins = perturb_row_feature(model, row, row_idx, i, current_bins)\n",
    "            pert_rows.append(t_row)\n",
    "            new_curr_bins.append(t_current_bins)\n",
    "            new_percents.append(model.run_model(t_row))\n",
    "\n",
    "        new_percents = np.array(new_percents)\n",
    "        idx = np.argmax(new_percents)\n",
    "        \n",
    "        row = pert_rows[idx]\n",
    "        percent = new_percents[idx]\n",
    "        current_bins = new_curr_bins[idx]\n",
    "\n",
    "        features_moved[idx] = 1\n",
    "        times_moved[idx] += 1\n",
    "    \n",
    "    for l in range(23):\n",
    "        change_vector[l] = current_bins[l] - original_bins[l]\n",
    "        \n",
    "    if percent >= 0.5:\n",
    "        return change_vector, row\n",
    "    else:\n",
    "        return (\"Decision can't be moved within thresholds.\")\n",
    "    \n",
    "    \n"
   ]
  },
  {
   "cell_type": "code",
   "execution_count": 17,
   "metadata": {
    "collapsed": false
   },
   "outputs": [
    {
     "name": "stdout",
     "output_type": "stream",
     "text": [
      "0 [ 4.  0.  0.  0.  1.  0.  0.  0.  0.  0.  0.  0.  0. -1.  0.  0.  0.  0.\n",
      "  0.  0.  0.  0.  0.]\n",
      "1 D\n",
      "2 D\n",
      "3 D\n",
      "4 [ 3.  0.  0.  0.  0.  0.  0.  0.  0.  0.  0.  0.  0. -1.  0.  0.  0.  0.\n",
      "  0.  0.  0.  0.  0.]\n"
     ]
    }
   ],
   "source": [
    "for i in range(5):\n",
    "    print(i, instance_explanation(svm_model, X[i], i)[0])"
   ]
  },
  {
   "cell_type": "code",
   "execution_count": null,
   "metadata": {
    "collapsed": true
   },
   "outputs": [],
   "source": []
  }
 ],
 "metadata": {
  "anaconda-cloud": {},
  "kernelspec": {
   "display_name": "Python [default]",
   "language": "python",
   "name": "python3"
  },
  "language_info": {
   "codemirror_mode": {
    "name": "ipython",
    "version": 3
   },
   "file_extension": ".py",
   "mimetype": "text/x-python",
   "name": "python",
   "nbconvert_exporter": "python",
   "pygments_lexer": "ipython3",
   "version": "3.5.2"
  }
 },
 "nbformat": 4,
 "nbformat_minor": 2
}
