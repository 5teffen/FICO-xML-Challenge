{
 "cells": [
  {
   "cell_type": "markdown",
   "metadata": {},
   "source": [
    "# Challenge Code"
   ]
  },
  {
   "cell_type": "markdown",
   "metadata": {},
   "source": [
    "### Basic data extraction"
   ]
  },
  {
   "cell_type": "code",
   "execution_count": 132,
   "metadata": {
    "collapsed": true
   },
   "outputs": [],
   "source": [
    "import numpy as np\n",
    "import pandas as pd\n",
    "\n",
    "from sklearn import linear_model"
   ]
  },
  {
   "cell_type": "code",
   "execution_count": 133,
   "metadata": {
    "collapsed": false
   },
   "outputs": [],
   "source": [
    "df = pd.read_csv(\"xML Challenge Dataset and Data Dictionary/heloc_dataset_v1.csv\")\n",
    "data = df.values\n",
    "target_data = data[:,:1]\n",
    "\n",
    "data_matrix = data[:,1:]"
   ]
  },
  {
   "cell_type": "code",
   "execution_count": 134,
   "metadata": {
    "collapsed": false
   },
   "outputs": [],
   "source": [
    "num_samples , num_attributes = data_matrix.shape\n",
    "\n",
    "#print(\"num_samples = \" + str(num_samples) + ' , ' + \"num_attributes = \" + str(num_attributes))"
   ]
  },
  {
   "cell_type": "markdown",
   "metadata": {},
   "source": [
    "### Data Manipulation and Processing"
   ]
  },
  {
   "cell_type": "code",
   "execution_count": 139,
   "metadata": {
    "collapsed": false
   },
   "outputs": [],
   "source": [
    "# Getting rid of the -7, -8, -9 values\n",
    "np.place(data_matrix, data_matrix < 0, 0)"
   ]
  },
  {
   "cell_type": "code",
   "execution_count": 140,
   "metadata": {
    "collapsed": true
   },
   "outputs": [],
   "source": [
    "data_matrix = (data_matrix-data_matrix.mean())/(data_matrix.std())"
   ]
  },
  {
   "cell_type": "code",
   "execution_count": 179,
   "metadata": {
    "collapsed": false
   },
   "outputs": [
    {
     "name": "stdout",
     "output_type": "stream",
     "text": [
      "Training samples:  5229\n",
      "Validation samples:  2615\n",
      "Test samples:  2615\n"
     ]
    }
   ],
   "source": [
    "tr_data = data_matrix[:int(0.5*num_samples)]\n",
    "test_data = data_matrix[int(0.5*num_samples):int(0.75*num_samples)]\n",
    "val_data = data_matrix[int(0.75*num_samples):]\n",
    "\n",
    "tr_target = target_data[:int(0.5*num_samples)]\n",
    "test_target = target_data[int(0.5*num_samples):int(0.75*num_samples)]\n",
    "val_target = target_data[int(0.75*num_samples):]\n",
    "\n",
    "print(\"Training samples: \", tr_data.shape[0])\n",
    "print(\"Validation samples: \", test_data.shape[0])\n",
    "print(\"Test samples: \", val_data.shape[0])"
   ]
  },
  {
   "cell_type": "markdown",
   "metadata": {},
   "source": [
    "### Linear Regression"
   ]
  },
  {
   "cell_type": "code",
   "execution_count": 199,
   "metadata": {
    "collapsed": false
   },
   "outputs": [
    {
     "name": "stdout",
     "output_type": "stream",
     "text": [
      "Accuracy: 70.3632887189 %\n",
      "[[ 2.08106907  0.00722706  0.48237759  0.24543861  0.42696585  0.26854253\n",
      "   0.26854253  0.32586504  0.25305148  0.26854253  0.26854253  0.08920948\n",
      "   0.26854253  0.46705242  0.26854253  0.68372906  0.68372906  0.81668662\n",
      "   0.02749847  0.10941723  0.26854253  0.26854253  0.52516575]]\n"
     ]
    }
   ],
   "source": [
    "logreg = linear_model.LogisticRegression(penalty=\"l2\",C=10,solver=\"liblinear\")\n",
    "# Fit the model on the training set.\n",
    "logreg.fit(tr_data, tr_target.reshape(tr_target.shape[0],))\n",
    "\n",
    "pred = logreg.predict(test_data)\n",
    "acc = np.mean(pred.reshape(pred.shape[0],1) == test_target)\n",
    "coefs = logreg.coef_\n",
    "print(\"Accuracy:\", acc*100, \"%\")\n",
    "\n",
    "print(abs(coefs))\n",
    "\n"
   ]
  },
  {
   "cell_type": "code",
   "execution_count": 197,
   "metadata": {
    "collapsed": false
   },
   "outputs": [
    {
     "ename": "IndexError",
     "evalue": "tuple index out of range",
     "output_type": "error",
     "traceback": [
      "\u001b[0;31m---------------------------------------------------------------------------\u001b[0m",
      "\u001b[0;31mIndexError\u001b[0m                                Traceback (most recent call last)",
      "\u001b[0;32m<ipython-input-197-f8314a831521>\u001b[0m in \u001b[0;36m<module>\u001b[0;34m()\u001b[0m\n\u001b[1;32m      1\u001b[0m \u001b[0mranks\u001b[0m \u001b[0;34m=\u001b[0m \u001b[0;34m[\u001b[0m\u001b[0;34m]\u001b[0m\u001b[0;34m\u001b[0m\u001b[0m\n\u001b[1;32m      2\u001b[0m \u001b[0;31m# coef_sort = sorted(abs(coefs),reverse=True)\u001b[0m\u001b[0;34m\u001b[0m\u001b[0;34m\u001b[0m\u001b[0m\n\u001b[0;32m----> 3\u001b[0;31m \u001b[0mcoefs\u001b[0m \u001b[0;34m=\u001b[0m \u001b[0mabs\u001b[0m\u001b[0;34m(\u001b[0m\u001b[0mcoefs\u001b[0m\u001b[0;34m.\u001b[0m\u001b[0mreshape\u001b[0m\u001b[0;34m(\u001b[0m\u001b[0mcoefs\u001b[0m\u001b[0;34m.\u001b[0m\u001b[0mshape\u001b[0m\u001b[0;34m[\u001b[0m\u001b[0;36m1\u001b[0m\u001b[0;34m]\u001b[0m\u001b[0;34m,\u001b[0m\u001b[0;34m)\u001b[0m\u001b[0;34m)\u001b[0m\u001b[0;34m\u001b[0m\u001b[0m\n\u001b[0m\u001b[1;32m      4\u001b[0m \u001b[0mcoef_sort\u001b[0m \u001b[0;34m=\u001b[0m \u001b[0mcoefs\u001b[0m\u001b[0;34m\u001b[0m\u001b[0m\n\u001b[1;32m      5\u001b[0m \u001b[0mcoef_sort\u001b[0m\u001b[0;34m.\u001b[0m\u001b[0msort\u001b[0m\u001b[0;34m(\u001b[0m\u001b[0;34m)\u001b[0m\u001b[0;34m\u001b[0m\u001b[0m\n",
      "\u001b[0;31mIndexError\u001b[0m: tuple index out of range"
     ]
    }
   ],
   "source": [
    "# ranks = []\n",
    "# # coef_sort = sorted(abs(coefs),reverse=True)\n",
    "# coefs = abs(coefs.reshape(coefs.shape[1],))\n",
    "# coef_sort = coefs\n",
    "# coef_sort.sort()\n",
    "\n",
    "# print(coef_sort)\n",
    "# r = 0\n",
    "# for weight in coefs:\n",
    "#     print(coef_sort.index(weight))\n",
    "    \n",
    "\n",
    "    "
   ]
  },
  {
   "cell_type": "code",
   "execution_count": 100,
   "metadata": {
    "collapsed": false
   },
   "outputs": [],
   "source": [
    "# C_acc = []\n",
    "# C_options = [0.0000001,0.000001,0.00001,0.0001,0.001,0.01,0.1,1,10]\n",
    "\n",
    "# for test in C_options:\n",
    "#     C_acc.append(acc_test_log(test))\n"
   ]
  },
  {
   "cell_type": "code",
   "execution_count": null,
   "metadata": {
    "collapsed": true
   },
   "outputs": [],
   "source": []
  }
 ],
 "metadata": {
  "anaconda-cloud": {},
  "kernelspec": {
   "display_name": "Python [conda root]",
   "language": "python",
   "name": "conda-root-py"
  },
  "language_info": {
   "codemirror_mode": {
    "name": "ipython",
    "version": 3
   },
   "file_extension": ".py",
   "mimetype": "text/x-python",
   "name": "python",
   "nbconvert_exporter": "python",
   "pygments_lexer": "ipython3",
   "version": "3.5.2"
  }
 },
 "nbformat": 4,
 "nbformat_minor": 1
}
